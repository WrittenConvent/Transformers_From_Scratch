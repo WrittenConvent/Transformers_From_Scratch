{
 "cells": [
  {
   "cell_type": "code",
   "execution_count": 1,
   "outputs": [
    {
     "name": "stderr",
     "output_type": "stream",
     "text": [
      "2023-01-03 18:06:38.133893: I tensorflow/core/platform/cpu_feature_guard.cc:193] This TensorFlow binary is optimized with oneAPI Deep Neural Network Library (oneDNN) to use the following CPU instructions in performance-critical operations:  AVX2 FMA\n",
      "To enable them in other operations, rebuild TensorFlow with the appropriate compiler flags.\n",
      "2023-01-03 18:06:38.748346: W tensorflow/stream_executor/platform/default/dso_loader.cc:64] Could not load dynamic library 'libcudart.so.11.0'; dlerror: libcudart.so.11.0: cannot open shared object file: No such file or directory\n",
      "2023-01-03 18:06:38.748367: I tensorflow/stream_executor/cuda/cudart_stub.cc:29] Ignore above cudart dlerror if you do not have a GPU set up on your machine.\n",
      "2023-01-03 18:06:38.846726: E tensorflow/stream_executor/cuda/cuda_blas.cc:2981] Unable to register cuBLAS factory: Attempting to register factory for plugin cuBLAS when one has already been registered\n",
      "2023-01-03 18:06:40.165991: W tensorflow/stream_executor/platform/default/dso_loader.cc:64] Could not load dynamic library 'libnvinfer.so.7'; dlerror: libnvinfer.so.7: cannot open shared object file: No such file or directory\n",
      "2023-01-03 18:06:40.166042: W tensorflow/stream_executor/platform/default/dso_loader.cc:64] Could not load dynamic library 'libnvinfer_plugin.so.7'; dlerror: libnvinfer_plugin.so.7: cannot open shared object file: No such file or directory\n",
      "2023-01-03 18:06:40.166047: W tensorflow/compiler/tf2tensorrt/utils/py_utils.cc:38] TF-TRT Warning: Cannot dlopen some TensorRT libraries. If you would like to use Nvidia GPU with TensorRT, please make sure the missing libraries mentioned above are installed properly.\n"
     ]
    },
    {
     "data": {
      "text/plain": "['[CLS]', 'hi', 'this', 'is', 'su', '##s', '##nat', '##o', '.', '[SEP]']"
     },
     "execution_count": 1,
     "metadata": {},
     "output_type": "execute_result"
    }
   ],
   "source": [
    "from transformers import AutoTokenizer\n",
    "\n",
    "t_ = AutoTokenizer.from_pretrained(\"bert-base-uncased\")\n",
    "text = \"Hi this is susnato.\"\n",
    "t_.convert_ids_to_tokens(t_.encode(text))"
   ],
   "metadata": {
    "collapsed": false
   }
  },
  {
   "cell_type": "code",
   "execution_count": 2,
   "outputs": [
    {
     "data": {
      "text/plain": "['[CLS]', 'hi', 'this', 'is', 'su', '##s', '##nat', '##o', '.', '[SEP]']"
     },
     "execution_count": 2,
     "metadata": {},
     "output_type": "execute_result"
    }
   ],
   "source": [
    "t_(text).tokens()"
   ],
   "metadata": {
    "collapsed": false
   }
  },
  {
   "cell_type": "code",
   "execution_count": 3,
   "outputs": [
    {
     "name": "stderr",
     "output_type": "stream",
     "text": [
      "Using custom data configuration transformersbook--codeparrot-0f7acc4fe3a5cfd9\n"
     ]
    }
   ],
   "source": [
    "from datasets import load_dataset\n",
    "\n",
    "ds = load_dataset(\"transformersbook/codeparrot\",\n",
    "                  split=\"train\",\n",
    "                  streaming=True)"
   ],
   "metadata": {
    "collapsed": false
   }
  },
  {
   "cell_type": "code",
   "execution_count": 4,
   "outputs": [
    {
     "name": "stdout",
     "output_type": "stream",
     "text": [
      "['def', 'Ġsay', '_', 'hello', '():', 'Ċ', 'Ġ', 'Ġ', 'Ġ', 'Ġprint', '(\"', 'Hello', ',', 'ĠWorld', '!\"', ')', 'Ċ', 'Ġ', 'Ġ', 'Ġ', 'Ġ#', 'ĠPrint', 'Ġit', 'Ċ', 'Ġ', 'Ġ', 'Ġ', 'Ġsay', '_', 'hello', '()']\n"
     ]
    }
   ],
   "source": [
    "python_code = r\"\"\"def say_hello():\n",
    "    print(\"Hello, World!\")\n",
    "    # Print it\n",
    "    say_hello()\"\"\"\n",
    "tokenizer = AutoTokenizer.from_pretrained(\"gpt2\")\n",
    "tokens = tokenizer(python_code).tokens()\n",
    "print(tokens)"
   ],
   "metadata": {
    "collapsed": false
   }
  },
  {
   "cell_type": "code",
   "execution_count": 5,
   "outputs": [
    {
     "name": "stdout",
     "output_type": "stream",
     "text": [
      "None\n"
     ]
    }
   ],
   "source": [
    "print(tokenizer.backend_tokenizer.normalizer)"
   ],
   "metadata": {
    "collapsed": false
   }
  },
  {
   "cell_type": "code",
   "execution_count": 6,
   "outputs": [
    {
     "name": "stdout",
     "output_type": "stream",
     "text": [
      "[('def', (0, 3)), ('Ġsay', (3, 7)), ('_', (7, 8)), ('hello', (8, 13)), ('():', (13, 16)), ('ĊĠĠĠ', (16, 20)), ('Ġprint', (20, 26)), ('(\"', (26, 28)), ('Hello', (28, 33)), (',', (33, 34)), ('ĠWorld', (34, 40)), ('!\")', (40, 43)), ('ĊĠĠĠ', (43, 47)), ('Ġ#', (47, 49)), ('ĠPrint', (49, 55)), ('Ġit', (55, 58)), ('ĊĠĠĠ', (58, 62)), ('Ġsay', (62, 66)), ('_', (66, 67)), ('hello', (67, 72)), ('()', (72, 74))]\n"
     ]
    }
   ],
   "source": [
    "print(tokenizer.backend_tokenizer.pre_tokenizer.pre_tokenize_str(python_code))"
   ],
   "metadata": {
    "collapsed": false
   }
  },
  {
   "cell_type": "code",
   "execution_count": 7,
   "outputs": [
    {
     "data": {
      "text/plain": "dict_items([(33, '!'), (34, '\"'), (35, '#'), (36, '$'), (37, '%'), (38, '&'), (39, \"'\"), (40, '('), (41, ')'), (42, '*'), (43, '+'), (44, ','), (45, '-'), (46, '.'), (47, '/'), (48, '0'), (49, '1'), (50, '2'), (51, '3'), (52, '4'), (53, '5'), (54, '6'), (55, '7'), (56, '8'), (57, '9'), (58, ':'), (59, ';'), (60, '<'), (61, '='), (62, '>'), (63, '?'), (64, '@'), (65, 'A'), (66, 'B'), (67, 'C'), (68, 'D'), (69, 'E'), (70, 'F'), (71, 'G'), (72, 'H'), (73, 'I'), (74, 'J'), (75, 'K'), (76, 'L'), (77, 'M'), (78, 'N'), (79, 'O'), (80, 'P'), (81, 'Q'), (82, 'R'), (83, 'S'), (84, 'T'), (85, 'U'), (86, 'V'), (87, 'W'), (88, 'X'), (89, 'Y'), (90, 'Z'), (91, '['), (92, '\\\\'), (93, ']'), (94, '^'), (95, '_'), (96, '`'), (97, 'a'), (98, 'b'), (99, 'c'), (100, 'd'), (101, 'e'), (102, 'f'), (103, 'g'), (104, 'h'), (105, 'i'), (106, 'j'), (107, 'k'), (108, 'l'), (109, 'm'), (110, 'n'), (111, 'o'), (112, 'p'), (113, 'q'), (114, 'r'), (115, 's'), (116, 't'), (117, 'u'), (118, 'v'), (119, 'w'), (120, 'x'), (121, 'y'), (122, 'z'), (123, '{'), (124, '|'), (125, '}'), (126, '~'), (161, '¡'), (162, '¢'), (163, '£'), (164, '¤'), (165, '¥'), (166, '¦'), (167, '§'), (168, '¨'), (169, '©'), (170, 'ª'), (171, '«'), (172, '¬'), (174, '®'), (175, '¯'), (176, '°'), (177, '±'), (178, '²'), (179, '³'), (180, '´'), (181, 'µ'), (182, '¶'), (183, '·'), (184, '¸'), (185, '¹'), (186, 'º'), (187, '»'), (188, '¼'), (189, '½'), (190, '¾'), (191, '¿'), (192, 'À'), (193, 'Á'), (194, 'Â'), (195, 'Ã'), (196, 'Ä'), (197, 'Å'), (198, 'Æ'), (199, 'Ç'), (200, 'È'), (201, 'É'), (202, 'Ê'), (203, 'Ë'), (204, 'Ì'), (205, 'Í'), (206, 'Î'), (207, 'Ï'), (208, 'Ð'), (209, 'Ñ'), (210, 'Ò'), (211, 'Ó'), (212, 'Ô'), (213, 'Õ'), (214, 'Ö'), (215, '×'), (216, 'Ø'), (217, 'Ù'), (218, 'Ú'), (219, 'Û'), (220, 'Ü'), (221, 'Ý'), (222, 'Þ'), (223, 'ß'), (224, 'à'), (225, 'á'), (226, 'â'), (227, 'ã'), (228, 'ä'), (229, 'å'), (230, 'æ'), (231, 'ç'), (232, 'è'), (233, 'é'), (234, 'ê'), (235, 'ë'), (236, 'ì'), (237, 'í'), (238, 'î'), (239, 'ï'), (240, 'ð'), (241, 'ñ'), (242, 'ò'), (243, 'ó'), (244, 'ô'), (245, 'õ'), (246, 'ö'), (247, '÷'), (248, 'ø'), (249, 'ù'), (250, 'ú'), (251, 'û'), (252, 'ü'), (253, 'ý'), (254, 'þ'), (255, 'ÿ'), (0, 'Ā'), (1, 'ā'), (2, 'Ă'), (3, 'ă'), (4, 'Ą'), (5, 'ą'), (6, 'Ć'), (7, 'ć'), (8, 'Ĉ'), (9, 'ĉ'), (10, 'Ċ'), (11, 'ċ'), (12, 'Č'), (13, 'č'), (14, 'Ď'), (15, 'ď'), (16, 'Đ'), (17, 'đ'), (18, 'Ē'), (19, 'ē'), (20, 'Ĕ'), (21, 'ĕ'), (22, 'Ė'), (23, 'ė'), (24, 'Ę'), (25, 'ę'), (26, 'Ě'), (27, 'ě'), (28, 'Ĝ'), (29, 'ĝ'), (30, 'Ğ'), (31, 'ğ'), (32, 'Ġ'), (127, 'ġ'), (128, 'Ģ'), (129, 'ģ'), (130, 'Ĥ'), (131, 'ĥ'), (132, 'Ħ'), (133, 'ħ'), (134, 'Ĩ'), (135, 'ĩ'), (136, 'Ī'), (137, 'ī'), (138, 'Ĭ'), (139, 'ĭ'), (140, 'Į'), (141, 'į'), (142, 'İ'), (143, 'ı'), (144, 'Ĳ'), (145, 'ĳ'), (146, 'Ĵ'), (147, 'ĵ'), (148, 'Ķ'), (149, 'ķ'), (150, 'ĸ'), (151, 'Ĺ'), (152, 'ĺ'), (153, 'Ļ'), (154, 'ļ'), (155, 'Ľ'), (156, 'ľ'), (157, 'Ŀ'), (158, 'ŀ'), (159, 'Ł'), (160, 'ł'), (173, 'Ń')])"
     },
     "execution_count": 7,
     "metadata": {},
     "output_type": "execute_result"
    }
   ],
   "source": [
    "from transformers.models.gpt2.tokenization_gpt2 import bytes_to_unicode\n",
    "\n",
    "bytes_to_unicode_map = bytes_to_unicode()\n",
    "bytes_to_unicode_map.items()"
   ],
   "metadata": {
    "collapsed": false
   }
  },
  {
   "cell_type": "code",
   "execution_count": 8,
   "outputs": [
    {
     "data": {
      "text/plain": "256"
     },
     "execution_count": 8,
     "metadata": {},
     "output_type": "execute_result"
    }
   ],
   "source": [
    "len(bytes_to_unicode_map)"
   ],
   "metadata": {
    "collapsed": false
   }
  },
  {
   "cell_type": "code",
   "execution_count": 9,
   "outputs": [
    {
     "name": "stdout",
     "output_type": "stream",
     "text": [
      "[('def', (0, 3)), ('Ġsay', (3, 7)), ('_', (7, 8)), ('hello', (8, 13)), ('():', (13, 16)), ('ĊĠĠĠ', (16, 20)), ('Ġprint', (20, 26)), ('(\"', (26, 28)), ('Hello', (28, 33)), (',', (33, 34)), ('ĠWorld', (34, 40)), ('!\")', (40, 43)), ('ĊĠĠĠ', (43, 47)), ('Ġ#', (47, 49)), ('ĠPrint', (49, 55)), ('Ġit', (55, 58)), ('ĊĠĠĠ', (58, 62)), ('Ġsay', (62, 66)), ('_', (66, 67)), ('hello', (67, 72)), ('()', (72, 74))]\n"
     ]
    }
   ],
   "source": [
    "print(tokenizer.backend_tokenizer.pre_tokenizer.pre_tokenize_str(python_code))"
   ],
   "metadata": {
    "collapsed": false
   }
  },
  {
   "cell_type": "code",
   "execution_count": 10,
   "outputs": [
    {
     "name": "stdout",
     "output_type": "stream",
     "text": [
      "['!', '\"', '#', '$', '%', '&', \"'\", '(', ')', '*', '+', ',', '-', '.', '/', '0', '1', '2', '3', '4', '5', '6', '7', '8', '9', ':', ';', '<', '=', '>', '?', '@', 'A', 'B', 'C', 'D', 'E', 'F', 'G', 'H', 'I', 'J', 'K', 'L', 'M', 'N', 'O', 'P', 'Q', 'R', 'S', 'T', 'U', 'V', 'W', 'X', 'Y', 'Z', '[', '\\\\', ']', '^', '_', '`', 'a', 'b', 'c', 'd', 'e', 'f', 'g', 'h', 'i', 'j', 'k', 'l', 'm', 'n', 'o', 'p', 'q', 'r', 's', 't', 'u', 'v', 'w', 'x', 'y', 'z', '{', '|', '}', '~', '¡', '¢', '£', '¤', '¥', '¦', '§', '¨', '©', 'ª', '«', '¬', '®', '¯', '°', '±', '²', '³', '´', 'µ', '¶', '·', '¸', '¹', 'º', '»', '¼', '½', '¾', '¿', 'À', 'Á', 'Â', 'Ã', 'Ä', 'Å', 'Æ', 'Ç', 'È', 'É', 'Ê', 'Ë', 'Ì', 'Í', 'Î', 'Ï', 'Ð', 'Ñ', 'Ò', 'Ó', 'Ô', 'Õ', 'Ö', '×', 'Ø', 'Ù', 'Ú', 'Û', 'Ü', 'Ý', 'Þ', 'ß', 'à', 'á', 'â', 'ã', 'ä', 'å', 'æ', 'ç', 'è', 'é', 'ê', 'ë', 'ì', 'í', 'î', 'ï', 'ð', 'ñ', 'ò', 'ó', 'ô', 'õ', 'ö', '÷', 'ø', 'ù', 'ú', 'û', 'ü', 'ý', 'þ', 'ÿ', 'Ā', 'ā', 'Ă', 'ă', 'Ą', 'ą', 'Ć', 'ć', 'Ĉ', 'ĉ', 'Ċ', 'ċ', 'Č', 'č', 'Ď', 'ď', 'Đ', 'đ', 'Ē', 'ē', 'Ĕ', 'ĕ', 'Ė', 'ė', 'Ę', 'ę', 'Ě', 'ě', 'Ĝ', 'ĝ', 'Ğ', 'ğ', 'Ġ', 'ġ', 'Ģ', 'ģ', 'Ĥ', 'ĥ', 'Ħ', 'ħ', 'Ĩ', 'ĩ', 'Ī', 'ī', 'Ĭ', 'ĭ', 'Į', 'į', 'İ', 'ı', 'Ĳ', 'ĳ', 'Ĵ', 'ĵ', 'Ķ', 'ķ', 'ĸ', 'Ĺ', 'ĺ', 'Ļ', 'ļ', 'Ľ', 'ľ', 'Ŀ', 'ŀ', 'Ł', 'ł', 'Ń']\n"
     ]
    }
   ],
   "source": [
    "unicode_to_byte_map = dict((v, k) for k, v in bytes_to_unicode_map.items())\n",
    "base_vocab = list(unicode_to_byte_map.keys())\n",
    "print(base_vocab)"
   ],
   "metadata": {
    "collapsed": false
   }
  },
  {
   "cell_type": "code",
   "execution_count": 11,
   "outputs": [
    {
     "name": "stderr",
     "output_type": "stream",
     "text": [
      "Using custom data configuration transformersbook--codeparrot-train-ba60c789679753de\n"
     ]
    }
   ],
   "source": [
    "from tqdm.auto import tqdm\n",
    "\n",
    "length = 100_000\n",
    "dataset_name = \"transformersbook/codeparrot-train\"\n",
    "dataset = load_dataset(dataset_name, split=\"train\", streaming=True)\n",
    "iter_dataset = iter(dataset)\n",
    "\n",
    "def batch_iterator(batch_size=10):\n",
    "    for _ in tqdm(range(0, length, batch_size)):\n",
    "        yield [next(iter_dataset)[\"content\"] for _ in range(batch_size)]\n"
   ],
   "metadata": {
    "collapsed": false
   }
  },
  {
   "cell_type": "code",
   "execution_count": 12,
   "outputs": [
    {
     "data": {
      "text/plain": "  0%|          | 0/10000 [00:00<?, ?it/s]",
      "application/vnd.jupyter.widget-view+json": {
       "version_major": 2,
       "version_minor": 0,
       "model_id": "90efd33ba687416abb9cd3b54fa8d513"
      }
     },
     "metadata": {},
     "output_type": "display_data"
    },
    {
     "name": "stdout",
     "output_type": "stream",
     "text": [
      "\n",
      "\n",
      "\n"
     ]
    }
   ],
   "source": [
    "new_tokenizer = tokenizer.train_new_from_iterator(batch_iterator(),\n",
    "                                                  vocab_size=12_500,\n",
    "                                                  initial_alphabet=base_vocab)"
   ],
   "metadata": {
    "collapsed": false
   }
  },
  {
   "cell_type": "code",
   "execution_count": 13,
   "outputs": [
    {
     "data": {
      "text/plain": "{'embed': 6569,\n 'Ġ60': 5134,\n 'cipher': 8825,\n 'ftp': 8988,\n 'ur': 298,\n 'Ġmimetype': 12268,\n 'mr': 12426,\n 'browser': 5504,\n 'head': 3042,\n 'Ġhas': 960,\n 'fy': 1404,\n 'ather': 7266,\n 'orph': 6677,\n 'free': 4833,\n 'licit': 3168,\n 'wor': 593,\n 'Ġconnection': 1946,\n 'mac': 3158,\n 'fb': 4570,\n 'Ġcorrect': 3188,\n 'ature': 1439,\n 'Ġ[[': 3509,\n 'filters': 4410,\n 'đ': 206,\n 'filename': 1506,\n 'att': 7059,\n 'ESS': 1594,\n '109': 6736,\n 'Ġoc': 4138,\n '**': 528,\n '49': 1735,\n 'ICE': 3904,\n 'Ġconversion': 8719,\n '147': 10848,\n 'Unexpected': 8939,\n 'artist': 12088,\n 'ssue': 9135,\n 'y': 89,\n 'document': 3665,\n 'Ġexact': 5938,\n 'Ġaddition': 10184,\n 'Ġhelp': 1711,\n 'Ġthread': 2511,\n 'ast': 1822,\n '*': 10,\n 'js': 3628,\n ')?': 5652,\n 'white': 7698,\n '=\"\",': 9088,\n 'Ġ[-': 5481,\n 'precationWarning': 9468,\n 'fabric': 5047,\n 'boardInterrupt': 12116,\n 'openconfig': 6957,\n 'inventory': 7702,\n 'mitive': 9132,\n 'Ġincre': 9890,\n 'Ġ[])': 3119,\n 'ĠGra': 10595,\n 'column': 2297,\n 'flatten': 8347,\n 'ç»': 9027,\n 'ched': 1857,\n 'Builtin': 11314,\n 'ĸ': 245,\n 'do': 1177,\n 'coord': 7679,\n 'Ġthan': 2399,\n 'uplic': 4269,\n 'ĠN': 655,\n 'Ġnone': 7089,\n 'cleaned': 8365,\n 'ĊĊĠĠĠĠĠĠ': 11014,\n 'Ġqualified': 12202,\n 'Ġ{}': 1045,\n \"']],\": 1885,\n 'Ġ200': 1976,\n 'Ġplan': 7683,\n 'eError': 6369,\n 'segment': 9238,\n 'ding': 1095,\n 'floor': 11186,\n 'Ġx': 665,\n '005': 7906,\n 'unique': 3279,\n 'zz': 4389,\n 'previous': 6363,\n '897': 8458,\n 'quota': 9422,\n 'ĠLEFT': 6600,\n 'predictions': 8400,\n 'initial': 4632,\n 'xda': 11752,\n 'ĠĠĠ': 259,\n 'Vi': 2225,\n 'jar': 7250,\n 'Ġ{%': 8233,\n 'Ġtar': 5111,\n 'Ġ2008': 9265,\n 'Red': 10937,\n 'Ġpayment': 10649,\n 'HTTP': 2894,\n 'Ġfour': 11673,\n 'full': 2769,\n 'Column': 4480,\n 'Ġnative': 5015,\n 'configured': 11495,\n '],': 467,\n 'make': 1899,\n 'fl': 3392,\n 'Ġfd': 6050,\n 'Ġchecker': 7930,\n 'co': 331,\n 'Ġat': 737,\n 'VENT': 4494,\n 'Proxy': 5171,\n 'should': 5813,\n 'Ġrelationship': 8501,\n 'Same': 10112,\n 'tains': 3892,\n 'reen': 3436,\n 'oo': 1554,\n 'ka': 6691,\n 'rue': 432,\n 'lin': 475,\n 'udit': 10992,\n \"')[\": 5810,\n 'tro': 1387,\n 'Ġsm': 4400,\n 'sample': 3224,\n 'Ġsubmit': 11718,\n 'Ġgenerator': 4185,\n 'ded': 774,\n 'ĠUp': 5018,\n '=(': 2633,\n 'Ġrequired': 1424,\n '160': 8193,\n 'INE': 3534,\n 'Ġsuffix': 4802,\n 'raries': 5518,\n 'Can': 5796,\n 'upported': 9703,\n 'signals': 10376,\n 'Ġsetattr': 5463,\n 'Ġrepresentation': 6075,\n 'Ġmaking': 10505,\n 'Fix': 11912,\n 'Ġpurpose': 11998,\n '01400': 12383,\n 'ĊĉĉĊĉ': 9195,\n 'ĠCPU': 11951,\n 'find': 1646,\n 'ĊĠĠĠĠĠĠĠĠĠĠĠĠĠĠĠĠĠĠĠĠĠĠĠĠĠĠĠĠĠĠĠĠĠĠĠĠ': 3357,\n 'foreign': 6865,\n 'Ġmacro': 8635,\n 'Sur': 12413,\n 'DOCUMENT': 7961,\n 'Category': 8113,\n 'ATIN': 1934,\n 'wrapped': 8811,\n 'identi': 10359,\n 'ĠOnly': 5994,\n 'Ġplugin': 3470,\n 'Param': 4124,\n 'ĠOSError': 6518,\n 'txt': 2433,\n 'INT': 2885,\n 'T': 52,\n 'Ġconditional': 12297,\n 'IC': 988,\n 'ility': 2062,\n 'ĠSince': 9304,\n 'describe': 11890,\n 'rep': 1151,\n 'tls': 9579,\n 'apter': 4223,\n '9': 25,\n 'handled': 11585,\n \"'/\": 10030,\n 'Ġhw': 12066,\n 'ho': 525,\n 'oto': 3490,\n 'xxxx': 5097,\n \"Ġ'%\": 1543,\n 'LL': 4585,\n 'ize': 3144,\n 'ases': 3271,\n 'andas': 7561,\n 'Available': 10779,\n 'thrift': 8271,\n 'Ġuti': 7651,\n \"']]\": 6432,\n 'Ġend': 1280,\n 'NotFound': 4648,\n 'ĠCur': 7233,\n 'id': 345,\n 'storage': 3676,\n 'feature': 4428,\n 'Ġpe': 4797,\n 'tails': 2034,\n 'Ġattrs': 3410,\n 'ĠInteger': 6750,\n 'fact': 7875,\n 'Ġpeer': 9739,\n '%%': 8881,\n 'UL': 1292,\n 'Lines': 9083,\n 'mouse': 9665,\n 'Ġfo': 7263,\n 'azure': 11751,\n 'tell': 9498,\n 'wa': 765,\n 'ck': 347,\n 'Te': 6417,\n 'rol': 7937,\n 'Ġserialized': 6264,\n 'ĠĠĠĠĠĠĠĠĠĠĠĠĠĠĠĠĠĠĠ': 8427,\n 'Ġasset': 8476,\n 'Ġrelevant': 11935,\n 'Ġ||': 12207,\n 'ĠForeignKey': 12352,\n 'Machine': 7752,\n ')):': 2294,\n 'ingle': 2365,\n 'peci': 910,\n 'Ġstates': 6065,\n 'ĠVerify': 7276,\n 'Global': 7795,\n 'Est': 9274,\n 'scale': 3466,\n 'aff': 9259,\n 'Line': 2899,\n 'wisted': 5204,\n 'ĠMust': 9660,\n 'ĠRedistribution': 10094,\n 'Ġ45': 10533,\n 'inters': 10887,\n 'Ġ\"[': 7243,\n 'focus': 11805,\n 'Ġenum': 5238,\n '30': 1167,\n '(\"--': 6747,\n 'Ġretri': 4425,\n 'Ġperson': 5150,\n 'Menu': 5857,\n 'ARD': 7455,\n 'classes': 2838,\n 'Multicast': 8906,\n 'Ġ:': 514,\n 'Ġsql': 3815,\n 'written': 9103,\n 'ĠBoolean': 9156,\n 'Ġseed': 6308,\n 'yncio': 11734,\n 'Ġcy': 6393,\n 'Ġvpc': 11974,\n 'seed': 5118,\n 'eval': 2613,\n 'xbd': 10088,\n 'kwarg': 12298,\n 'desc': 3252,\n 'silon': 8913,\n 'sitions': 6352,\n 'conds': 2735,\n 'Ġrenderer': 12430,\n 'ull': 969,\n 'Rou': 5874,\n 'Edit': 4769,\n 'Ġlisten': 7246,\n 'attribute': 3330,\n 'ws': 3782,\n 'ĠDefaults': 7744,\n 'Ķ': 243,\n 'clar': 5245,\n 'ĊĠĠĠĠĠĠĠĠĠĠĠĠĠĠĠĠĠĠ': 700,\n 'Ġto': 369,\n 'dle': 3248,\n 'OF': 3494,\n 'Ġgen': 3757,\n 'Ġcount': 2372,\n 'Ġfname': 6627,\n 'ilar': 6716,\n 'ĠAddress': 9452,\n 'abspath': 4792,\n 'tency': 9328,\n 'Cluster': 9602,\n 'project': 1697,\n '----------': 10250,\n 'ĠOverride': 11011,\n 'ĠMode': 4894,\n 'Ġrepresented': 11234,\n 'ie': 1932,\n 'OUT': 1859,\n 'Ġmig': 3933,\n '(\"': 479,\n 'Ġpatch': 3342,\n 'cla': 4128,\n 'paque': 10988,\n 'land': 9778,\n 'uti': 944,\n 'translation': 6988,\n 'packages': 5116,\n 'qual': 535,\n 'utions': 8439,\n 'Threshold': 11327,\n \"(',\": 5052,\n '048': 9912,\n 'urls': 3624,\n 'Ġbytes': 2691,\n '[-': 2020,\n 'hs': 4329,\n 'ru': 6817,\n 'ically': 7191,\n 'patterns': 7273,\n 'Metadata': 5292,\n 'hg': 7955,\n 'Ġen': 657,\n 'orical': 10414,\n 'Document': 5783,\n 'Ġdict': 1189,\n 'Ġkeep': 4189,\n 'ĠInvalid': 6327,\n 'disabled': 6977,\n 'Static': 8684,\n 'bz': 10740,\n 'drive': 10084,\n 'Phy': 6715,\n 'TLS': 9618,\n 'Ġ17': 5582,\n 'ĠDAMAGE': 9767,\n 'ĠView': 11347,\n 'dest': 2617,\n 'ĠNo': 3125,\n 'Ġsuccess': 3121,\n 'didate': 5181,\n 'ĠWindows': 5341,\n 'Fields': 7268,\n 'Ġone': 1364,\n 'ĠCONTRACT': 7024,\n 'Ġar': 596,\n 'ory': 1093,\n 'ĠSta': 7132,\n 'Setting': 7806,\n \"('-\": 3753,\n 'Detail': 8239,\n 'Ġentities': 8895,\n 'Ġmodes': 11897,\n 'Ma': 9340,\n 'tx': 2376,\n 'matches': 6997,\n 'symbol': 5102,\n 'ask': 813,\n 'IBILITY': 8969,\n 'Ġgroup': 1578,\n 'svn': 6631,\n 'Ġmodified': 6029,\n 'Ġjobs': 9631,\n '\"))': 2288,\n 'apt': 6223,\n 'change': 1444,\n 'Ġselector': 9649,\n 'Snapshot': 11932,\n 'regression': 12245,\n '£': 97,\n '----------------': 764,\n 'ĠReserved': 5741,\n 'cl': 428,\n 'ĠĠĠĠĠĠĠĠĠ': 3474,\n 'Open': 4343,\n 'ffe': 1977,\n 'crete': 7381,\n 'exact': 7551,\n 'Impl': 5108,\n 'mu': 5608,\n 'Ġfinal': 4723,\n 'failUnless': 7244,\n 'and': 460,\n 'ĠĠĠĠ': 258,\n 'atom': 4285,\n 'Ġfn': 4337,\n 'bose': 2274,\n 'ĊĠĠĠĠĠĠĠĠĠĠĠĠĠĠĠĠĠĠĠĠĠĠĠĠĠĠĠĠĠĠĠĠĠĠĠĠĠĠĠĠĠĠĠĠĠĠĠĠ': 1680,\n 'locations': 7911,\n 'review': 8591,\n 'TAG': 7173,\n 'ball': 8894,\n 'Cur': 3737,\n 'verify': 4708,\n ';&#': 10710,\n 'Ġprops': 10883,\n 'Ġhack': 11263,\n 'ALLOW': 11802,\n 'Ġindicate': 6548,\n 'Player': 11448,\n \"Ġ'__\": 2540,\n 'export': 3780,\n 'keras': 9044,\n ':]:': 10923,\n 'Ġoptional': 2663,\n 'Ġcollection': 3313,\n 'param': 633,\n 'Ġcomb': 5266,\n 'PATTERN': 11278,\n 'Ġdecorator': 7419,\n 'ĉĉ': 1014,\n 'mbols': 4423,\n 'Get': 1015,\n '/\"': 6690,\n '([': 789,\n 'čĊĠĠĠĠĠĠĠĠĠĠĠĠĠĠĠĠĠĠĠĠĠĠĠ': 8964,\n 'ĠCONSEQUENTIAL': 9070,\n 'Ġme': 563,\n 'moves': 4878,\n 'visibility': 11861,\n \">'\": 3626,\n 'qui': 790,\n 'linear': 6601,\n 'Error': 545,\n 'sale': 8075,\n 'ĠDatabase': 8816,\n \"(('\": 4741,\n 'Ġlines': 2370,\n 'vec': 6144,\n 'Ġdescription': 1379,\n 'canvas': 7511,\n 'ĠTuple': 11945,\n 'spi': 7437,\n 'Definition': 11579,\n 'IAL': 4934,\n 'ĠAND': 2431,\n '119': 6745,\n 'ings': 788,\n 'CTG': 6776,\n 'quential': 8976,\n '766': 12051,\n 'Ġlearn': 12170,\n 'ANGE': 9170,\n 'sitory': 4385,\n 'ai': 5484,\n 'Ġ~': 6527,\n 'ucd': 9239,\n 'veloper': 5867,\n 'gl': 2932,\n 'rapper': 2388,\n 'ME': 3912,\n 'Ġexactly': 8893,\n 'Ġvari': 4106,\n 'Ġspecial': 4856,\n 'Ġdrop': 6013,\n 'ĠValidationError': 8552,\n 'Í': 138,\n 'ĠCreates': 10849,\n 'Ġprovi': 1713,\n 'MULT': 7973,\n 'Choice': 9350,\n 'verbosity': 9362,\n '////': 802,\n 'Count': 2368,\n 'cause': 2615,\n 'report': 3068,\n '()]': 5213,\n 'ended': 8882,\n 'schema': 3713,\n 'ĠRIGHT': 7166,\n 'use': 1176,\n 'clusters': 8910,\n '</': 1107,\n 'quired': 1100,\n 'aries': 3423,\n 'Ġallows': 6061,\n 'IGIT': 7172,\n 'Verify': 7427,\n 'Ġeffect': 7504,\n 'Ġassume': 5490,\n 'Ġwould': 3955,\n 'Ċĉĉ': 671,\n 'ABIC': 8772,\n 'Ġwe': 780,\n 'wb': 6839,\n 'xec': 9966,\n 'Geom': 11949,\n 'Ø': 149,\n 'pi': 1035,\n 'basename': 4893,\n 'ROL': 6347,\n 'diffe': 6781,\n 'Ġlazy': 9529,\n 'PASS': 7008,\n 'HA': 6484,\n ')._': 10346,\n 'antity': 6660,\n 'wi': 2255,\n 'Ġteam': 7663,\n 'most': 2716,\n 'ĠS': 429,\n 'Ġ${': 10912,\n 'Ġshared': 5743,\n 'ĠUpdate': 6230,\n 'lay': 800,\n 'Predi': 10155,\n 'Ġcatalog': 11504,\n 'Ġrepe': 6294,\n 'war': 7346,\n 'FUNCTYPE': 8090,\n 'preview': 7736,\n 'Ġnewline': 8016,\n 'WORK': 8697,\n 'neg': 8564,\n '2010': 7109,\n 'Address': 1499,\n 'ĠUTF': 8954,\n 'Ignore': 9885,\n 'hen': 2928,\n 'Ġstored': 5538,\n 'ĠAllow': 9958,\n 'ĠDist': 10168,\n 'ĠQtCore': 10212,\n 'Contents': 10829,\n 'latin': 10832,\n 'emp': 2147,\n 'Pool': 5386,\n 'urlopen': 11536,\n 'encrypt': 11689,\n 'ĊĠĠĠĠĠĠĠĠĠĠĠĠĠĠĠĠĠĠĠĠĠĠĠĠ': 594,\n 'cogn': 6866,\n 'Ġ70': 9979,\n 'bindings': 11701,\n 'outline': 11710,\n 'stop': 2407,\n 'Ġsmaller': 12404,\n 'latex': 7226,\n 'Ġ42': 5593,\n 'æĸ': 9676,\n 'uber': 10045,\n 'net': 851,\n 'ĊĠĠĊĠ': 12005,\n 'Ġsupp': 5003,\n 'Ġdirs': 7686,\n 'RUP': 9243,\n 'IMIT': 4396,\n 'Ġoccurred': 8598,\n 'sic': 9876,\n '~~~~~~~~~~~~~~~~': 10086,\n 'Ġgoogle': 6213,\n 'à¤¾': 5669,\n 'Convert': 7203,\n 'Using': 10327,\n 'plural': 10843,\n 'ixVector': 10197,\n 'RR': 11931,\n 'playlist': 10774,\n \"({'\": 3164,\n 'CONT': 5836,\n 'dmp': 10133,\n 'EVT': 10289,\n 'works': 11451,\n 'identifier': 5377,\n 'quantity': 11549,\n 'ctypes': 10000,\n 'logout': 11981,\n 'Ġchunks': 8653,\n 'Ġflags': 3242,\n 'Unicode': 6935,\n 'BO': 3991,\n 'Ġpprint': 10635,\n 'builtins': 10203,\n 'Ġstrategy': 10245,\n 'Ġloader': 5191,\n 'LICENSE': 3978,\n \"|'\": 5511,\n 'Ġtheir': 3918,\n 'AF': 5517,\n 'MAX': 4265,\n 'ĠSign': 8866,\n 'serialize': 3651,\n 'relative': 6207,\n 'ĠFifth': 12003,\n 'sion': 436,\n 'ĠB': 695,\n 'ĠTO': 2271,\n 'sys': 1284,\n 'NESS': 3011,\n 'Ġlineno': 6381,\n 'vey': 7151,\n 'Please': 8241,\n \"='/\": 8878,\n '....': 3982,\n 'SEQU': 7319,\n 'KeyError': 9634,\n 'enchmark': 6235,\n ')}': 6650,\n 'poses': 10123,\n 'ĠReference': 11049,\n 'Ġperform': 5167,\n 'Ġirq': 10408,\n '>\"\"\"': 11252,\n '294': 12398,\n 'align': 5956,\n 'POST': 4001,\n 'Ġsecure': 11006,\n 'ĠFin': 11040,\n 'Ġqs': 6681,\n 'Ġcinder': 12444,\n 'tity': 2207,\n 'Ġyour': 2210,\n 'Info': 2393,\n ');\\\\': 6153,\n '|\\\\': 6234,\n 'Pack': 2400,\n 'retries': 10880,\n 'noise': 10904,\n 'UB': 2574,\n 'startswith': 2483,\n 'Ġring': 11883,\n 'Ġrelated': 4057,\n 'union': 9014,\n ')': 9,\n 'ĠGREEK': 8668,\n 'Long': 9990,\n 'hest': 12179,\n 'Ġcapt': 12488,\n 'WISE': 7044,\n 'Ġ>=': 2351,\n 'Ġfreq': 9923,\n 'Ġtry': 864,\n 'edu': 8814,\n 'hints': 12069,\n 'face': 1442,\n 'ATTRIB': 10228,\n 'ĠE': 666,\n 'İ': 237,\n 'ĠCharField': 11592,\n 'sit': 2235,\n 'gradient': 7693,\n 'expires': 12262,\n 'validator': 11270,\n 'able': 462,\n 'Ġdomain': 2954,\n 'Ġpositive': 7208,\n 'thing': 2157,\n 'te': 266,\n 'form': 959,\n '53': 2481,\n 'shot': 2723,\n 'Page': 3308,\n 'pb': 3425,\n 'ime': 1039,\n 'Ġissue': 4820,\n 'ind': 689,\n 'Ġrv': 4297,\n 'ĠCOPYRIGHT': 5866,\n 'ĠIS': 2315,\n 'PDF': 6729,\n 'ĠEnsure': 7599,\n ')(': 5246,\n 'Ġ\"*': 9123,\n 'ĠAdmin': 9212,\n '158': 10742,\n 'Maximum': 10882,\n 'grid': 3776,\n 'ĠProtocol': 11719,\n 'Ġbet': 2895,\n 'Ġinstanti': 8952,\n 'OUR': 11571,\n 'pools': 11793,\n 'Ġstdout': 3902,\n 'offset': 2766,\n 'Ġio': 5850,\n 'Usage': 7868,\n 'Ġother': 1149,\n 'prop': 4307,\n 'Ġgood': 7007,\n 'resses': 4351,\n 'Ġcost': 7890,\n 'prod': 9335,\n 'ops': 1443,\n 'tadata': 1716,\n 'ĠBad': 9028,\n 'contenttypes': 10888,\n 'Ċĉĉĉĉĉĉĉ': 11338,\n 'jobs': 5267,\n 'cts': 3130,\n 'Ġreference': 3575,\n 'apps': 5315,\n 'Ġ[]):': 12330,\n 'Nested': 11868,\n 'Ġsearch': 2761,\n 'derer': 6108,\n '>,': 6000,\n '506': 12483,\n 'hostname': 4210,\n 'Constraint': 8521,\n 'ĠAt': 2875,\n 'Ġinf': 9203,\n 'Ġignore': 3813,\n 'warnings': 5609,\n 'Ġmeans': 4920,\n 'atter': 3538,\n 'ERY': 9578,\n 'dev': 2401,\n '===': 6031,\n \"']))\": 5196,\n 'prefix': 1864,\n 'ĠVERTICAL': 8491,\n 'Model': 1690,\n 'ilter': 1875,\n 'S': 51,\n 'ends': 3233,\n 'ĠWH': 5416,\n 'Ġtheme': 9085,\n 'ations': 1296,\n 'matched': 10717,\n 'Ġsucce': 10305,\n 'ught': 10964,\n 'ORE': 5919,\n 'Ġcat': 6286,\n 'beta': 5780,\n 'sk': 1310,\n 'ĠHowever': 9521,\n 'ĠHeader': 10477,\n 'levels': 10791,\n 'coin': 8971,\n 'Ġdb': 1893,\n 'percent': 6948,\n \"=='\": 6969,\n 'legend': 10326,\n 'Ġflat': 4911,\n 'Ġtrain': 3587,\n 'Ġradius': 9089,\n '41': 2930,\n 'clusive': 7220,\n 'dirs': 3186,\n '101': 4835,\n 'Ġinput': 1306,\n 'Ph': 5728,\n 'ke': 413,\n 'profile': 2872,\n 'SCHEM': 7943,\n 'sively': 9763,\n ';\"': 9770,\n 'RET': 7307,\n '77': 1092,\n 'Characters': 10129,\n 'ĠPARTIC': 3097,\n 'Pay': 10484,\n 'Ġws': 11086,\n 'bj': 468,\n 'vg': 11168,\n 'gene': 11377,\n 'datas': 11407,\n 'COMMENT': 11462,\n 'ield': 548,\n 'CLAIM': 8739,\n 'GP': 9682,\n 'ĠAction': 10462,\n 'ĠKEY': 9297,\n 'ir': 721,\n 'Ġupdated': 4681,\n 'Ġshift': 7811,\n 'Ids': 11913,\n 'Ġcmp': 10350,\n 'Additional': 8755,\n 'fork': 11953,\n 'ĠSMALL': 2551,\n 'Ġ2016': 7848,\n 'ETIME': 10663,\n '88': 1318,\n 'SIZE': 4224,\n 'ĠModule': 5705,\n 'AMPLES': 8269,\n 'Ġperformed': 10486,\n 'bin': 1420,\n 'ello': 3286,\n 'Ġcoun': 4555,\n 'Ġstrides': 10864,\n 'ĠET': 11171,\n 'Ġgateway': 11218,\n 'account': 1984,\n 'REQU': 5412,\n 'Ġfil': 3598,\n 'CR': 2881,\n 'Ġbest': 5420,\n 'entity': 4581,\n 'bits': 5862,\n 'Pix': 9275,\n 'Ansible': 9538,\n 'Ġleast': 5129,\n 'Č': 201,\n 'matrix': 3585,\n 'Exists': 7985,\n \"Ġ'@\": 9928,\n 'åľ': 10721,\n 'UTC': 10884,\n 'fer': 2436,\n 'entropy': 11952,\n 'qualified': 11348,\n 'OP': 1959,\n 'ERS': 4009,\n 'ESIS': 8299,\n 'abcdef': 10470,\n 'Ġwhite': 10737,\n 'BY': 8329,\n 'descr': 11316,\n 'Ġseems': 12142,\n 'splitext': 7949,\n 'ĠOK': 10005,\n 'mal': 2379,\n 'ok': 738,\n 'Ġ00': 8716,\n 'ĠStandard': 10089,\n 'py': 653,\n 'Ġoverwrite': 8741,\n 'ret': 3321,\n 'Method': 3678,\n \"_('\": 11440,\n 'hidden': 5598,\n '/.': 8195,\n 'ENCE': 6007,\n 'Top': 6119,\n 'output': 1204,\n 'forum': 11371,\n 'vr': 11607,\n 'El': 9508,\n 'Ġintended': 11286,\n 'operators': 12007,\n 'ci': 559,\n 'Ġmaximum': 5746,\n 'POSE': 3044,\n 'Ġdeleted': 5594,\n \"('',\": 8610,\n 'ValidationError': 8246,\n 'Ġcomparison': 8682,\n 'Rate': 7097,\n 'Ġproperty': 3293,\n 'ĠTag': 7957,\n 'ufc': 12181,\n 'ged': 2998,\n 'pen': 884,\n 'buffer': 2603,\n 'Ġsequences': 7712,\n 'ubb': 8445,\n 'ĠInc': 3359,\n '+)': 8572,\n 'URL': 2640,\n 'Ġcurrent': 1448,\n 'Def': 5823,\n 'Ð¾': 7252,\n 'Renderer': 11167,\n 'istory': 3703,\n 'ar': 285,\n 'uffix': 2965,\n 'AG': 1146,\n 'Ġlexer': 11392,\n '385': 11317,\n 'Gen': 7042,\n 'H': 40,\n 'etc': 6869,\n 'ĠSpeci': 5276,\n '};': 10659,\n 'Ġfs': 7921,\n 'ĠNet': 5455,\n 'bucket': 4674,\n 'Ġeff': 10750,\n 'Ġ(_': 6009,\n 'comp': 865,\n 'graphic': 9047,\n 'FLAG': 3716,\n 'Points': 12183,\n 'element': 2114,\n 'Ġad': 1480,\n 'stock': 6365,\n 'ession': 3510,\n 'chapter': 11477,\n 'anti': 4481,\n 'Ġmatrix': 3627,\n 'Ġcycle': 8710,\n 'fol': 6142,\n 'Ġanswer': 5830,\n 'WEVER': 9755,\n 'ggered': 11956,\n 'Ġsympy': 5735,\n 'used': 2986,\n 'game': 5072,\n 'ITS': 6036,\n 'Ġimplemented': 6134,\n 'neutron': 9838,\n 'LEVEL': 12325,\n 'Ġsync': 7830,\n 'edx': 7936,\n 'Sh': 2712,\n 'Ġpat': 12376,\n 'Ġrepeated': 10716,\n 'Registration': 11208,\n 'bool': 2340,\n 'Ġdistribution': 4181,\n 'Ġdeg': 7924,\n 'Ġopen': 1540,\n 'alt': 4408,\n 'Ġmatching': 4886,\n 'plat': 2994,\n 'sock': 5026,\n 'Ġ((': 3748,\n 'accept': 5801,\n 'ĠManagement': 8340,\n 'fileobj': 8660,\n 'Ġchain': 5896,\n 'nobr': 8832,\n 'Ġden': 5433,\n 'OFP': 6871,\n ').__': 2925,\n 'Constructor': 11243,\n 'detail': 5436,\n 'Ġ])': 4857,\n 'uses': 5725,\n '67': 2236,\n 'rpc': 4392,\n 'ĠASCII': 10308,\n 'remove': 2182,\n 'igno': 11254,\n 'ber': 608,\n \"')],\": 2781,\n 'Ġsort': 4080,\n 'cessary': 5166,\n 'ĠPost': 7889,\n '2000': 8467,\n 'based': 6629,\n 'Ġset': 661,\n 'Ġimage': 1832,\n 'Ġincluded': 5172,\n 'reated': 9220,\n 'Process': 3385,\n 'Standard': 8678,\n 'ĠCOPY': 9414,\n 'Ġpk': 3890,\n 'readlines': 9863,\n 'Ġstatistics': 11216,\n 'obs': 11960,\n 'OK': 3570,\n 'gram': 1661,\n 'chain': 4484,\n 'ual': 1115,\n 'Ĭ': 233,\n 'pping': 3621,\n 'Ġmethods': 3066,\n 'Ġdetermine': 6701,\n 'ust': 839,\n 'ands': 5606,\n 'abe': 8127,\n '\"\"\")': 6109,\n 'tings': 1169,\n 'pan': 4598,\n 'Ġsuitable': 11332,\n 'px': 5013,\n 'Manager': 3098,\n 'does': 9296,\n 'Schedule': 9454,\n 'Ab': 5540,\n '164': 8227,\n 'ferences': 4035,\n 'olden': 11480,\n 'Ġvalues': 1320,\n 'Ġcipher': 10537,\n 'Ġyet': 5908,\n 'els': 5673,\n 'Ġpriority': 7617,\n 'RPC': 8166,\n ',,': 8553,\n 'Ġcolors': 9113,\n 'Ġhandling': 7157,\n 'Ġdocs': 9196,\n 'Ġcompile': 6524,\n 'ye': 8786,\n 'ĠLIGHT': 9358,\n 'polation': 9638,\n 'fici': 4161,\n 'ĠPo': 4289,\n 'Ġunsigned': 7361,\n 'runtime': 7656,\n 'xe': 1955,\n 'classi': 8559,\n 'usion': 11766,\n 'System': 3980,\n 'wis': 4937,\n 'queryset': 7867,\n 'Ġ21': 8091,\n 'Ġ{}),': 8676,\n 'Ġwatch': 9817,\n 'ē': 208,\n 'Ġtarget': 1328,\n 'hex': 4084,\n 'ilities': 5561,\n 'Matrix': 5835,\n 'Ġurl': 1182,\n 'Ġpr': 5451,\n 'ĠCon': 1456,\n 'cache': 1666,\n 'Ġwithout': 1918,\n 'Ġproblems': 9136,\n 'Ġrange': 1425,\n 'Ġexpressions': 8310,\n ...}"
     },
     "execution_count": 13,
     "metadata": {},
     "output_type": "execute_result"
    }
   ],
   "source": [
    "new_tokenizer.vocab"
   ],
   "metadata": {
    "collapsed": false
   }
  },
  {
   "cell_type": "code",
   "execution_count": 14,
   "outputs": [
    {
     "name": "stdout",
     "output_type": "stream",
     "text": [
      "['  ', '    ', '   ', '        ', 'se', 'in', '       ', 're', 'on', 'te', '\\n       ', '\\n        ', 'or', 'st', 'de', '\\n   ', 'th', 'le', ' =', 'lf', 'self', 'me', 'al']\n"
     ]
    }
   ],
   "source": [
    "tokens = sorted(new_tokenizer.vocab.items(), key=lambda x:x[1], reverse=False)\n",
    "print([f'{new_tokenizer.convert_tokens_to_string(t)}' for t, _ in tokens[257:280]])"
   ],
   "metadata": {
    "collapsed": false
   }
  },
  {
   "cell_type": "code",
   "execution_count": 15,
   "outputs": [
    {
     "name": "stdout",
     "output_type": "stream",
     "text": [
      "[' capt', ' embedded', ' regarding', 'Bundle', '355', ' recv', ' dmp', ' vault', ' Mongo', ' possibly', 'implementation', 'Matches']\n"
     ]
    }
   ],
   "source": [
    "print([f'{new_tokenizer.convert_tokens_to_string(t)}' for t, _ in tokens[-12:]])"
   ],
   "metadata": {
    "collapsed": false
   }
  },
  {
   "cell_type": "code",
   "execution_count": 16,
   "outputs": [
    {
     "name": "stdout",
     "output_type": "stream",
     "text": [
      "There are 36 Keywords in Python\n",
      "`__peg_parser__` Keyword is not in Vocab.\n",
      "`await` Keyword is not in Vocab.\n",
      "`finally` Keyword is not in Vocab.\n",
      "`nonlocal` Keyword is not in Vocab.\n"
     ]
    }
   ],
   "source": [
    "import keyword\n",
    "\n",
    "print(f\"There are {len(keyword.kwlist)} Keywords in Python\")\n",
    "for keyw in keyword.kwlist:\n",
    "    if keyw not in new_tokenizer.vocab:\n",
    "        print(f\"`{keyw}` Keyword is not in Vocab.\")"
   ],
   "metadata": {
    "collapsed": false
   }
  },
  {
   "cell_type": "code",
   "execution_count": 17,
   "outputs": [
    {
     "name": "stdout",
     "output_type": "stream",
     "text": [
      "['def', 'Ġs', 'ay', '_', 'hello', '():', 'ĊĠĠĠ', 'Ġprint', '(\"', 'Hello', ',', 'ĠWor', 'ld', '!\")', 'ĊĠĠĠ', 'Ġ#', 'ĠPrint', 'Ġit', 'ĊĠĠĠ', 'Ġs', 'ay', '_', 'hello', '()']\n"
     ]
    }
   ],
   "source": [
    "print(new_tokenizer(python_code).tokens())"
   ],
   "metadata": {
    "collapsed": false
   }
  },
  {
   "cell_type": "code",
   "execution_count": 18,
   "outputs": [
    {
     "data": {
      "text/plain": "CommitInfo(commit_url='https://huggingface.co/susnato/codeparrot-small-vocabulary/commit/6688b2b3d6f4cd1506074f2a98991c1029302786', commit_message='Upload tokenizer', commit_description='', oid='6688b2b3d6f4cd1506074f2a98991c1029302786', pr_url=None, pr_revision=None, pr_num=None)"
     },
     "execution_count": 18,
     "metadata": {},
     "output_type": "execute_result"
    }
   ],
   "source": [
    "model_ckpt = \"codeparrot\"\n",
    "new_tokenizer.push_to_hub(model_ckpt+\"-small-vocabulary\")"
   ],
   "metadata": {
    "collapsed": false
   }
  },
  {
   "cell_type": "code",
   "execution_count": null,
   "outputs": [],
   "source": [],
   "metadata": {
    "collapsed": false
   }
  },
  {
   "cell_type": "code",
   "execution_count": 13,
   "outputs": [
    {
     "data": {
      "text/plain": "  0%|          | 0/40000 [00:00<?, ?it/s]",
      "application/vnd.jupyter.widget-view+json": {
       "version_major": 2,
       "version_minor": 0,
       "model_id": "15fa9872222b45f8a1de86d4eecf6f8f"
      }
     },
     "metadata": {},
     "output_type": "display_data"
    },
    {
     "name": "stdout",
     "output_type": "stream",
     "text": [
      "\n",
      "\n",
      "\n"
     ]
    }
   ],
   "source": [
    "length = 200_000\n",
    "new_tokenizer_larger = tokenizer.train_new_from_iterator(batch_iterator(batch_size=5),\n",
    "                                                         vocab_size=32_768,\n",
    "                                                         initial_alphabet=base_vocab)"
   ],
   "metadata": {
    "collapsed": false
   }
  },
  {
   "cell_type": "code",
   "execution_count": 14,
   "outputs": [
    {
     "name": "stdout",
     "output_type": "stream",
     "text": [
      "['lineEdit', 'spik', ' BC', 'pective', 'OTA', 'theus', 'FLUSH', ' excutils', '00000002', ' DIVISION', 'CursorPosition', ' InfoBar']\n"
     ]
    }
   ],
   "source": [
    "tokens = sorted(new_tokenizer_larger.vocab.items(), key=lambda x:x[1], reverse=False)\n",
    "print([f'{new_tokenizer_larger.convert_tokens_to_string(t)}' for t, _ in tokens[-12:]])"
   ],
   "metadata": {
    "collapsed": false
   }
  },
  {
   "cell_type": "code",
   "execution_count": 15,
   "outputs": [
    {
     "name": "stdout",
     "output_type": "stream",
     "text": [
      "['def', 'Ġsay', '_', 'hello', '():', 'ĊĠĠĠ', 'Ġprint', '(\"', 'Hello', ',', 'ĠWorld', '!\")', 'ĊĠĠĠ', 'Ġ#', 'ĠPrint', 'Ġit', 'ĊĠĠĠ', 'Ġsay', '_', 'hello', '()']\n"
     ]
    }
   ],
   "source": [
    "print(new_tokenizer_larger(python_code).tokens())"
   ],
   "metadata": {
    "collapsed": false
   }
  },
  {
   "cell_type": "code",
   "execution_count": 16,
   "outputs": [
    {
     "name": "stdout",
     "output_type": "stream",
     "text": [
      "There are 36 Keywords in Python\n",
      "`__peg_parser__` Keyword is not in Vocab.\n",
      "`nonlocal` Keyword is not in Vocab.\n"
     ]
    }
   ],
   "source": [
    "import keyword\n",
    "\n",
    "print(f\"There are {len(keyword.kwlist)} Keywords in Python\")\n",
    "for keyw in keyword.kwlist:\n",
    "    if keyw not in new_tokenizer_larger.vocab:\n",
    "        print(f\"`{keyw}` Keyword is not in Vocab.\")"
   ],
   "metadata": {
    "collapsed": false
   }
  },
  {
   "cell_type": "code",
   "execution_count": 18,
   "outputs": [
    {
     "data": {
      "text/plain": "CommitInfo(commit_url='https://huggingface.co/susnato/codeparrot/commit/c329988cddd2b372031ddd0e40d3ac7256635a16', commit_message='Upload tokenizer', commit_description='', oid='c329988cddd2b372031ddd0e40d3ac7256635a16', pr_url=None, pr_revision=None, pr_num=None)"
     },
     "execution_count": 18,
     "metadata": {},
     "output_type": "execute_result"
    }
   ],
   "source": [
    "model_ckpt = \"codeparrot\"\n",
    "new_tokenizer_larger.push_to_hub(model_ckpt)"
   ],
   "metadata": {
    "collapsed": false
   }
  },
  {
   "cell_type": "code",
   "execution_count": 20,
   "outputs": [
    {
     "data": {
      "text/plain": "Downloading:   0%|          | 0.00/255 [00:00<?, ?B/s]",
      "application/vnd.jupyter.widget-view+json": {
       "version_major": 2,
       "version_minor": 0,
       "model_id": "b3e613255282458caa44ed70797b715b"
      }
     },
     "metadata": {},
     "output_type": "display_data"
    },
    {
     "data": {
      "text/plain": "Downloading:   0%|          | 0.00/497k [00:00<?, ?B/s]",
      "application/vnd.jupyter.widget-view+json": {
       "version_major": 2,
       "version_minor": 0,
       "model_id": "6e40e1c1b2dc454eb4fa5e25dfe54014"
      }
     },
     "metadata": {},
     "output_type": "display_data"
    },
    {
     "data": {
      "text/plain": "Downloading:   0%|          | 0.00/277k [00:00<?, ?B/s]",
      "application/vnd.jupyter.widget-view+json": {
       "version_major": 2,
       "version_minor": 0,
       "model_id": "f5a3b1d25430432c8409f274cc9a8dc4"
      }
     },
     "metadata": {},
     "output_type": "display_data"
    },
    {
     "data": {
      "text/plain": "Downloading:   0%|          | 0.00/1.33M [00:00<?, ?B/s]",
      "application/vnd.jupyter.widget-view+json": {
       "version_major": 2,
       "version_minor": 0,
       "model_id": "abfa438b965040758b4036bdc09595d6"
      }
     },
     "metadata": {},
     "output_type": "display_data"
    },
    {
     "data": {
      "text/plain": "Downloading:   0%|          | 0.00/99.0 [00:00<?, ?B/s]",
      "application/vnd.jupyter.widget-view+json": {
       "version_major": 2,
       "version_minor": 0,
       "model_id": "9fe34ee1834b446189b8a9bedf4b3671"
      }
     },
     "metadata": {},
     "output_type": "display_data"
    },
    {
     "name": "stdout",
     "output_type": "stream",
     "text": [
      "['def', 'Ġsay', '_', 'hello', '():', 'ĊĠĠĠ', 'Ġprint', '(\"', 'Hello', ',', 'ĠWorld', '!\")', 'ĊĠĠĠ', 'Ġ#', 'ĠPrint', 'Ġit', 'ĊĠĠĠ', 'Ġsay', '_', 'hello', '()']\n"
     ]
    }
   ],
   "source": [
    "reloaded_tokenizer_l = AutoTokenizer.from_pretrained(\"susnato/codeparrot\")\n",
    "print(reloaded_tokenizer_l(python_code).tokens())"
   ],
   "metadata": {
    "collapsed": false
   }
  },
  {
   "cell_type": "code",
   "execution_count": null,
   "outputs": [],
   "source": [],
   "metadata": {
    "collapsed": false
   }
  }
 ],
 "metadata": {
  "kernelspec": {
   "display_name": "Python 3",
   "language": "python",
   "name": "python3"
  },
  "language_info": {
   "codemirror_mode": {
    "name": "ipython",
    "version": 2
   },
   "file_extension": ".py",
   "mimetype": "text/x-python",
   "name": "python",
   "nbconvert_exporter": "python",
   "pygments_lexer": "ipython2",
   "version": "2.7.6"
  }
 },
 "nbformat": 4,
 "nbformat_minor": 0
}
